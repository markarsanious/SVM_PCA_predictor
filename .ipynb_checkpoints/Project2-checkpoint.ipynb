{
 "cells": [
  {
   "cell_type": "markdown",
   "metadata": {
    "colab_type": "text",
    "id": "Yk8OZTOkkjf6"
   },
   "source": [
    "#### Task 1:\n",
    "##### Points 1&2:\n"
   ]
  },
  {
   "cell_type": "code",
   "execution_count": 8,
   "metadata": {
    "colab": {
     "base_uri": "https://localhost:8080/",
     "height": 102
    },
    "colab_type": "code",
    "id": "Mdn7YzfOkjf8",
    "outputId": "59d7f16d-01b4-4743-e26d-3c884a965830"
   },
   "outputs": [
    {
     "name": "stdout",
     "output_type": "stream",
     "text": [
      "Automatically created module for IPython interactive environment\n",
      "Total dataset size:\n",
      "n_samples: 1288\n",
      "n_features: 1850\n",
      "n_classes: 7\n"
     ]
    }
   ],
   "source": [
    "from __future__ import print_function\n",
    "\n",
    "from time import time\n",
    "import logging\n",
    "import matplotlib.pyplot as plt\n",
    "\n",
    "from sklearn.model_selection import train_test_split\n",
    "from sklearn.model_selection import GridSearchCV\n",
    "from sklearn.datasets import fetch_lfw_people\n",
    "from sklearn.metrics import classification_report\n",
    "from sklearn.metrics import confusion_matrix\n",
    "from sklearn.decomposition import PCA\n",
    "from sklearn.svm import SVC\n",
    "from sklearn.preprocessing import StandardScaler\n",
    "\n",
    "\n",
    "print(__doc__)\n",
    "\n",
    "# Display progress logs on stdout\n",
    "logging.basicConfig(level=logging.INFO, format='%(asctime)s %(message)s')\n",
    "\n",
    "\n",
    "# #############################################################################\n",
    "# Download the data, if not already on disk and load it as numpy arrays\n",
    "\n",
    "lfw_people = fetch_lfw_people(min_faces_per_person=70, resize=0.4)\n",
    "\n",
    "# introspect the images arrays to find the shapes (for plotting)\n",
    "n_samples, h, w = lfw_people.images.shape\n",
    "\n",
    "# for machine learning we use the 2 data directly (as relative pixel\n",
    "# positions info is ignored by this model)\n",
    "X = lfw_people.data\n",
    "n_features = X.shape[1]\n",
    "\n",
    "# the label to predict is the id of the person\n",
    "Y = lfw_people.target\n",
    "target_names = lfw_people.target_names\n",
    "n_classes = target_names.shape[0]\n",
    "\n",
    "print(\"Total dataset size:\")\n",
    "print(\"n_samples: %d\" % n_samples)\n",
    "print(\"n_features: %d\" % n_features)\n",
    "print(\"n_classes: %d\" % n_classes)\n",
    "\n",
    "\n",
    "# #############################################################################\n",
    "# Split into a training set and a test set using a stratified k fold\n",
    "\n",
    "# split into a training and testing set\n",
    "X_train, X_test, Y_train, Y_test = train_test_split(X, Y, test_size=0.25, random_state=42)"
   ]
  },
  {
   "cell_type": "code",
   "execution_count": 11,
   "metadata": {
    "colab": {
     "base_uri": "https://localhost:8080/",
     "height": 493
    },
    "colab_type": "code",
    "id": "ecof0XtZkjf_",
    "outputId": "984c47bf-4942-4113-cc95-a18ece5e6651"
   },
   "outputs": [
    {
     "name": "stdout",
     "output_type": "stream",
     "text": [
      "Fitting the classifier to the training set\n",
      "done in 676.776s\n",
      "Best estimator found by grid search:\n",
      "SVC(C=1000.0, cache_size=200, class_weight='balanced', coef0=0.0,\n",
      "  decision_function_shape='ovr', degree=3, gamma=0.0001, kernel='rbf',\n",
      "  max_iter=-1, probability=False, random_state=None, shrinking=True,\n",
      "  tol=0.001, verbose=False)\n",
      "Predicting people's names on the test set\n",
      "done in 0.734s\n",
      "                   precision    recall  f1-score   support\n",
      "\n",
      "     Ariel Sharon       0.50      0.69      0.58        13\n",
      "     Colin Powell       0.79      0.92      0.85        60\n",
      "  Donald Rumsfeld       0.81      0.63      0.71        27\n",
      "    George W Bush       0.94      0.91      0.92       146\n",
      "Gerhard Schroeder       0.77      0.80      0.78        25\n",
      "      Hugo Chavez       0.77      0.67      0.71        15\n",
      "       Tony Blair       0.84      0.75      0.79        36\n",
      "\n",
      "      avg / total       0.85      0.84      0.84       322\n",
      "\n",
      "[[  9   1   3   0   0   0   0]\n",
      " [  2  55   0   2   0   1   0]\n",
      " [  4   1  17   3   1   0   1]\n",
      " [  2   6   0 133   2   1   2]\n",
      " [  0   1   0   1  20   1   2]\n",
      " [  0   3   0   1   1  10   0]\n",
      " [  1   3   1   2   2   0  27]]\n"
     ]
    }
   ],
   "source": [
    "# #############################################################################\n",
    "# Train a SVM classification model\n",
    "\n",
    "print(\"Fitting the classifier to the training set\")\n",
    "t0 = time()\n",
    "param_grid = {'C': [1, 10, 100, 1e3],'gamma': [0.0001, 0.0005, 0.001, 0.005, 0.01, 0.1]}\n",
    "clf = GridSearchCV(SVC(kernel='rbf', class_weight='balanced'), param_grid, cv=5)\n",
    "Scaled_X = StandardScaler().fit_transform(X_train)\n",
    "clf = clf.fit(Scaled_X, Y_train)\n",
    "print(\"done in %0.3fs\" % (time() - t0))\n",
    "print(\"Best estimator found by grid search:\")\n",
    "print(clf.best_estimator_)\n",
    "\n",
    "# #############################################################################\n",
    "# Quantitative evaluation of the model quality on the test set\n",
    "\n",
    "print(\"Predicting people's names on the test set\")\n",
    "t0 = time()\n",
    "X_test_scaled = StandardScaler().fit_transform(X_test)\n",
    "Y_pred = clf.predict(X_test_scaled)\n",
    "print(\"done in %0.3fs\" % (time() - t0))\n",
    "\n",
    "print(classification_report(Y_test, Y_pred, target_names=target_names))\n",
    "print(confusion_matrix(Y_test, Y_pred, labels=range(n_classes)))"
   ]
  },
  {
   "cell_type": "code",
   "execution_count": 0,
   "metadata": {
    "colab": {},
    "colab_type": "code",
    "id": "x7gnxGAPn8jq"
   },
   "outputs": [],
   "source": []
  },
  {
   "cell_type": "code",
   "execution_count": 18,
   "metadata": {
    "colab": {
     "base_uri": "https://localhost:8080/",
     "height": 2210
    },
    "colab_type": "code",
    "id": "IS5OPVWVkjgB",
    "outputId": "8d2636f0-5119-4fef-c107-825c9d7b0255"
   },
   "outputs": [
    {
     "name": "stdout",
     "output_type": "stream",
     "text": [
      "Extracting the top 50 eigenfaces from 966 faces\n",
      "done in 0.277s\n",
      "Projecting the input data on the eigenfaces orthonormal basis\n",
      "done in 0.012s\n",
      "Fitting the classifier to the training set\n",
      "done in 20.499s\n",
      "Best estimator found by grid search:\n",
      "SVC(C=10, cache_size=200, class_weight='balanced', coef0=0.0,\n",
      "  decision_function_shape='ovr', degree=3, gamma=0.01, kernel='rbf',\n",
      "  max_iter=-1, probability=False, random_state=None, shrinking=True,\n",
      "  tol=0.001, verbose=False)\n",
      "Predicting people's names on the test set\n",
      "done in 0.025s\n",
      "                   precision    recall  f1-score   support\n",
      "\n",
      "     Ariel Sharon       0.62      0.77      0.69        13\n",
      "     Colin Powell       0.84      0.90      0.87        60\n",
      "  Donald Rumsfeld       0.67      0.59      0.63        27\n",
      "    George W Bush       0.88      0.91      0.90       146\n",
      "Gerhard Schroeder       0.75      0.72      0.73        25\n",
      "      Hugo Chavez       0.75      0.60      0.67        15\n",
      "       Tony Blair       0.84      0.72      0.78        36\n",
      "\n",
      "      avg / total       0.82      0.83      0.82       322\n",
      "\n",
      "[[ 10   1   1   1   0   0   0]\n",
      " [  0  54   1   4   0   0   1]\n",
      " [  4   2  16   4   1   0   0]\n",
      " [  0   3   4 133   1   2   3]\n",
      " [  0   0   1   5  18   1   0]\n",
      " [  0   2   0   2   1   9   1]\n",
      " [  2   2   1   2   3   0  26]]\n",
      "Extracting the top 150 eigenfaces from 966 faces\n",
      "done in 0.306s\n",
      "Projecting the input data on the eigenfaces orthonormal basis\n",
      "done in 0.036s\n",
      "Fitting the classifier to the training set\n",
      "done in 58.744s\n",
      "Best estimator found by grid search:\n",
      "SVC(C=1, cache_size=200, class_weight='balanced', coef0=0.0,\n",
      "  decision_function_shape='ovr', degree=3, gamma=0.005, kernel='rbf',\n",
      "  max_iter=-1, probability=False, random_state=None, shrinking=True,\n",
      "  tol=0.001, verbose=False)\n",
      "Predicting people's names on the test set\n",
      "done in 0.080s\n",
      "                   precision    recall  f1-score   support\n",
      "\n",
      "     Ariel Sharon       0.71      0.77      0.74        13\n",
      "     Colin Powell       0.72      0.92      0.81        60\n",
      "  Donald Rumsfeld       0.86      0.70      0.78        27\n",
      "    George W Bush       0.94      0.93      0.94       146\n",
      "Gerhard Schroeder       0.85      0.88      0.86        25\n",
      "      Hugo Chavez       0.90      0.60      0.72        15\n",
      "       Tony Blair       0.93      0.78      0.85        36\n",
      "\n",
      "      avg / total       0.88      0.87      0.87       322\n",
      "\n",
      "[[ 10   3   0   0   0   0   0]\n",
      " [  2  55   2   0   0   1   0]\n",
      " [  2   3  19   3   0   0   0]\n",
      " [  0   9   0 136   0   0   1]\n",
      " [  0   1   0   1  22   0   1]\n",
      " [  0   4   0   1   1   9   0]\n",
      " [  0   1   1   3   3   0  28]]\n",
      "Extracting the top 190 eigenfaces from 966 faces\n",
      "done in 0.388s\n",
      "Projecting the input data on the eigenfaces orthonormal basis\n",
      "done in 0.041s\n",
      "Fitting the classifier to the training set\n",
      "done in 74.231s\n",
      "Best estimator found by grid search:\n",
      "SVC(C=10, cache_size=200, class_weight='balanced', coef0=0.0,\n",
      "  decision_function_shape='ovr', degree=3, gamma=0.001, kernel='rbf',\n",
      "  max_iter=-1, probability=False, random_state=None, shrinking=True,\n",
      "  tol=0.001, verbose=False)\n",
      "Predicting people's names on the test set\n",
      "done in 0.092s\n",
      "                   precision    recall  f1-score   support\n",
      "\n",
      "     Ariel Sharon       0.67      0.77      0.71        13\n",
      "     Colin Powell       0.78      0.90      0.84        60\n",
      "  Donald Rumsfeld       0.84      0.78      0.81        27\n",
      "    George W Bush       0.92      0.88      0.90       146\n",
      "Gerhard Schroeder       0.69      0.72      0.71        25\n",
      "      Hugo Chavez       0.73      0.53      0.62        15\n",
      "       Tony Blair       0.83      0.83      0.83        36\n",
      "\n",
      "      avg / total       0.84      0.84      0.84       322\n",
      "\n",
      "[[ 10   1   0   2   0   0   0]\n",
      " [  2  54   0   3   0   1   0]\n",
      " [  2   2  21   2   0   0   0]\n",
      " [  1   7   3 129   3   1   2]\n",
      " [  0   2   0   2  18   1   2]\n",
      " [  0   3   0   1   1   8   2]\n",
      " [  0   0   1   1   4   0  30]]\n",
      "Extracting the top 300 eigenfaces from 966 faces\n",
      "done in 0.781s\n",
      "Projecting the input data on the eigenfaces orthonormal basis\n",
      "done in 0.058s\n",
      "Fitting the classifier to the training set\n",
      "done in 120.336s\n",
      "Best estimator found by grid search:\n",
      "SVC(C=10, cache_size=200, class_weight='balanced', coef0=0.0,\n",
      "  decision_function_shape='ovr', degree=3, gamma=0.0001, kernel='rbf',\n",
      "  max_iter=-1, probability=False, random_state=None, shrinking=True,\n",
      "  tol=0.001, verbose=False)\n",
      "Predicting people's names on the test set\n",
      "done in 0.154s\n",
      "                   precision    recall  f1-score   support\n",
      "\n",
      "     Ariel Sharon       0.53      0.77      0.62        13\n",
      "     Colin Powell       0.84      0.87      0.85        60\n",
      "  Donald Rumsfeld       0.68      0.70      0.69        27\n",
      "    George W Bush       0.95      0.83      0.89       146\n",
      "Gerhard Schroeder       0.68      0.84      0.75        25\n",
      "      Hugo Chavez       0.62      0.67      0.65        15\n",
      "       Tony Blair       0.72      0.78      0.75        36\n",
      "\n",
      "      avg / total       0.83      0.81      0.82       322\n",
      "\n",
      "[[ 10   0   3   0   0   0   0]\n",
      " [  2  52   2   1   0   2   1]\n",
      " [  4   1  19   0   0   1   2]\n",
      " [  2   6   4 121   5   3   5]\n",
      " [  0   0   0   2  21   0   2]\n",
      " [  0   1   0   0   3  10   1]\n",
      " [  1   2   0   3   2   0  28]]\n",
      "[0.8260869565217391, 0.8664596273291926, 0.8385093167701864, 0.8105590062111802]\n"
     ]
    }
   ],
   "source": [
    "from sklearn.metrics import f1_score\n",
    "\n",
    "# #############################################################################\n",
    "# Compute a PCA (eigenfaces) on the face dataset (treated as unlabeled\n",
    "# dataset): unsupervised feature extraction / dimensionality reduction\n",
    "n_components = [50, 150, 190, 300]\n",
    "f1_scores =[]\n",
    "\n",
    "for component in n_components:\n",
    "    print(\"Extracting the top %d eigenfaces from %d faces\" % (component, X_train.shape[0]))\n",
    "    t0 = time()\n",
    "    pca = PCA(n_components=component, svd_solver='randomized',\n",
    "              whiten=True).fit(X_train)\n",
    "    print(\"done in %0.3fs\" % (time() - t0))\n",
    "\n",
    "    eigenfaces = pca.components_.reshape((component, h, w))\n",
    "\n",
    "    print(\"Projecting the input data on the eigenfaces orthonormal basis\")\n",
    "    t0 = time()\n",
    "    X_train_pca = pca.transform(X_train)\n",
    "    X_test_pca = pca.transform(X_test)\n",
    "    print(\"done in %0.3fs\" % (time() - t0))\n",
    "\n",
    "\n",
    "    # #############################################################################\n",
    "    # Train a SVM classification model\n",
    "\n",
    "    print(\"Fitting the classifier to the training set\")\n",
    "    t0 = time()\n",
    "   \n",
    "    clf = SVC(C=1000.0, cache_size=200, class_weight='balanced', coef0=0.0,\n",
    "        decision_function_shape='ovr', degree=3, gamma=0.0001, kernel='rbf',\n",
    "        max_iter=-1, probability=False, random_state=None, shrinking=True,\n",
    "        tol=0.001, verbose=False)\n",
    "    clf = clf.fit(X_train_pca, Y_train)\n",
    "    print(\"done in %0.3fs\" % (time() - t0))\n",
    "\n",
    "    \n",
    "    # #############################################################################\n",
    "    # Quantitative evaluation of the model quality on the test set\n",
    "\n",
    "    print(\"Predicting people's names on the test set\")\n",
    "    t0 = time()\n",
    "    Y_pred = clf.predict(X_test_pca)\n",
    "    print(\"done in %0.3fs\" % (time() - t0))\n",
    "\n",
    "    print(classification_report(Y_test, Y_pred, target_names=target_names))\n",
    "    print(confusion_matrix(Y_test, Y_pred, labels=range(n_classes)))\n",
    "    f1_scores.append(f1_score(Y_test, Y_pred, average='micro'))\n",
    "    "
   ]
  },
  {
   "cell_type": "code",
   "execution_count": 0,
   "metadata": {
    "colab": {},
    "colab_type": "code",
    "id": "hq4kkJ4y8UMp"
   },
   "outputs": [],
   "source": []
  },
  {
   "cell_type": "code",
   "execution_count": 20,
   "metadata": {
    "colab": {
     "base_uri": "https://localhost:8080/",
     "height": 452
    },
    "colab_type": "code",
    "id": "0lYY7CojkjgE",
    "outputId": "bb00b2a7-1b79-47f4-a4a3-31dd2f71fa55"
   },
   "outputs": [
    {
     "data": {
      "image/png": "[encoded data removed]",
      "text/plain": [
       "<matplotlib.figure.Figure at 0x7fa13b9e9b70>"
      ]
     },
     "metadata": {
      "tags": []
     },
     "output_type": "display_data"
    }
   ],
   "source": [
    "import matplotlib.pyplot as plt; plt.rcdefaults()\n",
    "import numpy as np\n",
    "import matplotlib.pyplot as plt\n",
    " \n",
    "y_pos = np.arange(len(n_components))\n",
    " \n",
    "plt.bar(y_pos, f1_scores, align='center', alpha=0.5)\n",
    "plt.xticks(y_pos, n_components)\n",
    "plt.ylabel('Performance')\n",
    "plt.title('Different PCA Components performance')\n",
    " \n",
    "plt.show()"
   ]
  },
  {
   "cell_type": "code",
   "execution_count": 0,
   "metadata": {
    "colab": {},
    "colab_type": "code",
    "id": "WQKUghckkjgG"
   },
   "outputs": [],
   "source": [
    "\n",
    "# #############################################################################\n",
    "# Qualitative evaluation of the predictions using matplotlib\n",
    "\n",
    "def plot_gallery(images, titles, h, w, n_row=3, n_col=4):\n",
    "    \"\"\"Helper function to plot a gallery of portraits\"\"\"\n",
    "    plt.figure(figsize=(1.8 * n_col, 2.4 * n_row))\n",
    "    plt.subplots_adjust(bottom=0, left=.01, right=.99, top=.90, hspace=.35)\n",
    "    for i in range(n_row * n_col):\n",
    "        plt.subplot(n_row, n_col, i + 1)\n",
    "        plt.imshow(images[i].reshape((h, w)), cmap=plt.cm.gray)\n",
    "        plt.title(titles[i], size=12)\n",
    "        plt.xticks(())\n",
    "        plt.yticks(())\n",
    "\n",
    "\n",
    "# plot the result of the prediction on a portion of the test set\n",
    "\n",
    "def title(y_pred, y_test, target_names, i):\n",
    "    pred_name = target_names[y_pred[i]].rsplit(' ', 1)[-1]\n",
    "    true_name = target_names[y_test[i]].rsplit(' ', 1)[-1]\n",
    "    return 'predicted: %s\\ntrue:      %s' % (pred_name, true_name)\n",
    "\n",
    "prediction_titles = [title(y_pred, y_test, target_names, i)\n",
    "                     for i in range(y_pred.shape[0])]\n",
    "\n",
    "plot_gallery(X_test, prediction_titles, h, w)\n",
    "\n",
    "# plot the gallery of the most significative eigenfaces\n",
    "\n",
    "eigenface_titles = [\"eigenface %d\" % i for i in range(eigenfaces.shape[0])]\n",
    "plot_gallery(eigenfaces, eigenface_titles, h, w)\n",
    "\n",
    "plt.show()"
   ]
  },
  {
   "cell_type": "code",
   "execution_count": 0,
   "metadata": {
    "colab": {},
    "colab_type": "code",
    "id": "Os7m6gUJkjgJ"
   },
   "outputs": [],
   "source": []
  },
  {
   "cell_type": "code",
   "execution_count": 0,
   "metadata": {
    "colab": {},
    "colab_type": "code",
    "id": "KdQOBxAdkjgL"
   },
   "outputs": [],
   "source": []
  },
  {
   "cell_type": "code",
   "execution_count": 0,
   "metadata": {
    "colab": {},
    "colab_type": "code",
    "id": "HMKMPFE8kjgN"
   },
   "outputs": [],
   "source": []
  },
  {
   "cell_type": "code",
   "execution_count": 0,
   "metadata": {
    "colab": {},
    "colab_type": "code",
    "id": "Sl8R4yJgkjgQ"
   },
   "outputs": [],
   "source": []
  },
  {
   "cell_type": "code",
   "execution_count": 0,
   "metadata": {
    "colab": {},
    "colab_type": "code",
    "id": "PfsZFG22kjgT"
   },
   "outputs": [],
   "source": []
  },
  {
   "cell_type": "code",
   "execution_count": 0,
   "metadata": {
    "colab": {},
    "colab_type": "code",
    "id": "t_vbe5bRkjgV"
   },
   "outputs": [],
   "source": []
  },
  {
   "cell_type": "code",
   "execution_count": 0,
   "metadata": {
    "colab": {},
    "colab_type": "code",
    "id": "EIEKwv7JkjgY"
   },
   "outputs": [],
   "source": []
  },
  {
   "cell_type": "code",
   "execution_count": 0,
   "metadata": {
    "colab": {},
    "colab_type": "code",
    "id": "LwxvZ6mwkjga"
   },
   "outputs": [],
   "source": []
  },
  {
   "cell_type": "code",
   "execution_count": 0,
   "metadata": {
    "colab": {},
    "colab_type": "code",
    "id": "phKS1mTSkjgd"
   },
   "outputs": [],
   "source": []
  },
  {
   "cell_type": "code",
   "execution_count": 0,
   "metadata": {
    "colab": {},
    "colab_type": "code",
    "id": "cd8Gp45Mkjgf"
   },
   "outputs": [],
   "source": []
  },
  {
   "cell_type": "code",
   "execution_count": 0,
   "metadata": {
    "colab": {},
    "colab_type": "code",
    "id": "nfbbR6Etkjgh"
   },
   "outputs": [],
   "source": []
  }
 ],
 "metadata": {
  "accelerator": "TPU",
  "colab": {
   "collapsed_sections": [],
   "name": "Project2.ipynb",
   "provenance": [],
   "version": "0.3.2"
  },
  "kernelspec": {
   "display_name": "Python 3",
   "language": "python",
   "name": "python3"
  },
  "language_info": {
   "codemirror_mode": {
    "name": "ipython",
    "version": 3
   },
   "file_extension": ".py",
   "mimetype": "text/x-python",
   "name": "python",
   "nbconvert_exporter": "python",
   "pygments_lexer": "ipython3",
   "version": "3.6.5"
  }
 },
 "nbformat": 4,
 "nbformat_minor": 1
}
